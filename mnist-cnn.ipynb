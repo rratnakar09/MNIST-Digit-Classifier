{
 "cells": [
  {
   "cell_type": "code",
   "execution_count": 1,
   "metadata": {
    "_cell_guid": "b1076dfc-b9ad-4769-8c92-a6c4dae69d19",
    "_uuid": "8f2839f25d086af736a60e9eeb907d3b93b6e0e5"
   },
   "outputs": [
    {
     "name": "stderr",
     "output_type": "stream",
     "text": [
      "Using TensorFlow backend.\n"
     ]
    }
   ],
   "source": [
    "# This Python 3 environment comes with many helpful analytics libraries installed\n",
    "# It is defined by the kaggle/python docker image: https://github.com/kaggle/docker-python\n",
    "# For example, here's several helpful packages to load in \n",
    "\n",
    "import numpy as np # linear algebra\n",
    "import pandas as pd # data processing, CSV file I/O (e.g. pd.read_csv)\n",
    "import matplotlib.pyplot as plt\n",
    "import matplotlib.image as mpimg\n",
    "import seaborn as sns\n",
    "%matplotlib inline\n",
    "\n",
    "np.random.seed(2)\n",
    "\n",
    "from sklearn.model_selection import train_test_split\n",
    "from sklearn.metrics import confusion_matrix\n",
    "import itertools\n",
    "\n",
    "from keras.utils.np_utils import to_categorical # convert to one-hot-encoding\n",
    "from keras.models import Sequential\n",
    "from keras.layers import Dense, Dropout, Flatten, Conv2D, MaxPool2D\n",
    "from keras.optimizers import RMSprop\n",
    "from keras.preprocessing.image import ImageDataGenerator\n",
    "from keras.callbacks import ReduceLROnPlateau\n"
   ]
  },
  {
   "cell_type": "markdown",
   "metadata": {},
   "source": [
    "## Data Preparation"
   ]
  },
  {
   "cell_type": "code",
   "execution_count": 2,
   "metadata": {
    "_cell_guid": "79c7e3d0-c299-4dcb-8224-4455121ee9b0",
    "_uuid": "d629ff2d2480ee46fbb7e2d37f6b5fab8052498a"
   },
   "outputs": [
    {
     "name": "stdout",
     "output_type": "stream",
     "text": [
      "train_images shape (42000, 785)\n",
      "test_images shape (28000, 784)\n"
     ]
    }
   ],
   "source": [
    "# Load the data\n",
    "# Input data files are available in the \"../input/\" directory.\n",
    "train_images = pd.read_csv(\"../input/digit-recognizer/train.csv\")\n",
    "test_images = pd.read_csv(\"../input/digit-recognizer/test.csv\")\n",
    "print(\"train_images shape\", train_images.shape)\n",
    "print(\"test_images shape\", test_images.shape)"
   ]
  },
  {
   "cell_type": "code",
   "execution_count": 3,
   "metadata": {},
   "outputs": [
    {
     "data": {
      "text/html": [
       "<div>\n",
       "<style scoped>\n",
       "    .dataframe tbody tr th:only-of-type {\n",
       "        vertical-align: middle;\n",
       "    }\n",
       "\n",
       "    .dataframe tbody tr th {\n",
       "        vertical-align: top;\n",
       "    }\n",
       "\n",
       "    .dataframe thead th {\n",
       "        text-align: right;\n",
       "    }\n",
       "</style>\n",
       "<table border=\"1\" class=\"dataframe\">\n",
       "  <thead>\n",
       "    <tr style=\"text-align: right;\">\n",
       "      <th></th>\n",
       "      <th>label</th>\n",
       "      <th>pixel0</th>\n",
       "      <th>pixel1</th>\n",
       "      <th>pixel2</th>\n",
       "      <th>pixel3</th>\n",
       "      <th>pixel4</th>\n",
       "      <th>pixel5</th>\n",
       "      <th>pixel6</th>\n",
       "      <th>pixel7</th>\n",
       "      <th>pixel8</th>\n",
       "      <th>...</th>\n",
       "      <th>pixel774</th>\n",
       "      <th>pixel775</th>\n",
       "      <th>pixel776</th>\n",
       "      <th>pixel777</th>\n",
       "      <th>pixel778</th>\n",
       "      <th>pixel779</th>\n",
       "      <th>pixel780</th>\n",
       "      <th>pixel781</th>\n",
       "      <th>pixel782</th>\n",
       "      <th>pixel783</th>\n",
       "    </tr>\n",
       "  </thead>\n",
       "  <tbody>\n",
       "    <tr>\n",
       "      <th>0</th>\n",
       "      <td>1</td>\n",
       "      <td>0</td>\n",
       "      <td>0</td>\n",
       "      <td>0</td>\n",
       "      <td>0</td>\n",
       "      <td>0</td>\n",
       "      <td>0</td>\n",
       "      <td>0</td>\n",
       "      <td>0</td>\n",
       "      <td>0</td>\n",
       "      <td>...</td>\n",
       "      <td>0</td>\n",
       "      <td>0</td>\n",
       "      <td>0</td>\n",
       "      <td>0</td>\n",
       "      <td>0</td>\n",
       "      <td>0</td>\n",
       "      <td>0</td>\n",
       "      <td>0</td>\n",
       "      <td>0</td>\n",
       "      <td>0</td>\n",
       "    </tr>\n",
       "    <tr>\n",
       "      <th>1</th>\n",
       "      <td>0</td>\n",
       "      <td>0</td>\n",
       "      <td>0</td>\n",
       "      <td>0</td>\n",
       "      <td>0</td>\n",
       "      <td>0</td>\n",
       "      <td>0</td>\n",
       "      <td>0</td>\n",
       "      <td>0</td>\n",
       "      <td>0</td>\n",
       "      <td>...</td>\n",
       "      <td>0</td>\n",
       "      <td>0</td>\n",
       "      <td>0</td>\n",
       "      <td>0</td>\n",
       "      <td>0</td>\n",
       "      <td>0</td>\n",
       "      <td>0</td>\n",
       "      <td>0</td>\n",
       "      <td>0</td>\n",
       "      <td>0</td>\n",
       "    </tr>\n",
       "    <tr>\n",
       "      <th>2</th>\n",
       "      <td>1</td>\n",
       "      <td>0</td>\n",
       "      <td>0</td>\n",
       "      <td>0</td>\n",
       "      <td>0</td>\n",
       "      <td>0</td>\n",
       "      <td>0</td>\n",
       "      <td>0</td>\n",
       "      <td>0</td>\n",
       "      <td>0</td>\n",
       "      <td>...</td>\n",
       "      <td>0</td>\n",
       "      <td>0</td>\n",
       "      <td>0</td>\n",
       "      <td>0</td>\n",
       "      <td>0</td>\n",
       "      <td>0</td>\n",
       "      <td>0</td>\n",
       "      <td>0</td>\n",
       "      <td>0</td>\n",
       "      <td>0</td>\n",
       "    </tr>\n",
       "    <tr>\n",
       "      <th>3</th>\n",
       "      <td>4</td>\n",
       "      <td>0</td>\n",
       "      <td>0</td>\n",
       "      <td>0</td>\n",
       "      <td>0</td>\n",
       "      <td>0</td>\n",
       "      <td>0</td>\n",
       "      <td>0</td>\n",
       "      <td>0</td>\n",
       "      <td>0</td>\n",
       "      <td>...</td>\n",
       "      <td>0</td>\n",
       "      <td>0</td>\n",
       "      <td>0</td>\n",
       "      <td>0</td>\n",
       "      <td>0</td>\n",
       "      <td>0</td>\n",
       "      <td>0</td>\n",
       "      <td>0</td>\n",
       "      <td>0</td>\n",
       "      <td>0</td>\n",
       "    </tr>\n",
       "    <tr>\n",
       "      <th>4</th>\n",
       "      <td>0</td>\n",
       "      <td>0</td>\n",
       "      <td>0</td>\n",
       "      <td>0</td>\n",
       "      <td>0</td>\n",
       "      <td>0</td>\n",
       "      <td>0</td>\n",
       "      <td>0</td>\n",
       "      <td>0</td>\n",
       "      <td>0</td>\n",
       "      <td>...</td>\n",
       "      <td>0</td>\n",
       "      <td>0</td>\n",
       "      <td>0</td>\n",
       "      <td>0</td>\n",
       "      <td>0</td>\n",
       "      <td>0</td>\n",
       "      <td>0</td>\n",
       "      <td>0</td>\n",
       "      <td>0</td>\n",
       "      <td>0</td>\n",
       "    </tr>\n",
       "  </tbody>\n",
       "</table>\n",
       "<p>5 rows × 785 columns</p>\n",
       "</div>"
      ],
      "text/plain": [
       "   label  pixel0  pixel1  pixel2  pixel3  pixel4  pixel5  pixel6  pixel7  \\\n",
       "0      1       0       0       0       0       0       0       0       0   \n",
       "1      0       0       0       0       0       0       0       0       0   \n",
       "2      1       0       0       0       0       0       0       0       0   \n",
       "3      4       0       0       0       0       0       0       0       0   \n",
       "4      0       0       0       0       0       0       0       0       0   \n",
       "\n",
       "   pixel8  ...  pixel774  pixel775  pixel776  pixel777  pixel778  pixel779  \\\n",
       "0       0  ...         0         0         0         0         0         0   \n",
       "1       0  ...         0         0         0         0         0         0   \n",
       "2       0  ...         0         0         0         0         0         0   \n",
       "3       0  ...         0         0         0         0         0         0   \n",
       "4       0  ...         0         0         0         0         0         0   \n",
       "\n",
       "   pixel780  pixel781  pixel782  pixel783  \n",
       "0         0         0         0         0  \n",
       "1         0         0         0         0  \n",
       "2         0         0         0         0  \n",
       "3         0         0         0         0  \n",
       "4         0         0         0         0  \n",
       "\n",
       "[5 rows x 785 columns]"
      ]
     },
     "execution_count": 3,
     "metadata": {},
     "output_type": "execute_result"
    }
   ],
   "source": [
    "train_images.head()"
   ]
  },
  {
   "cell_type": "code",
   "execution_count": 4,
   "metadata": {},
   "outputs": [],
   "source": [
    "# Prepare the data for train and test\n",
    "y_train = train_images[\"label\"]\n",
    "\n",
    "# Drop 'label' column\n",
    "X_train = train_images.drop(labels = [\"label\"],axis = 1) \n",
    "\n",
    "# free some space\n",
    "del train_images"
   ]
  },
  {
   "cell_type": "code",
   "execution_count": 5,
   "metadata": {},
   "outputs": [
    {
     "data": {
      "text/plain": [
       "1    4684\n",
       "7    4401\n",
       "3    4351\n",
       "9    4188\n",
       "2    4177\n",
       "6    4137\n",
       "0    4132\n",
       "4    4072\n",
       "8    4063\n",
       "5    3795\n",
       "Name: label, dtype: int64"
      ]
     },
     "execution_count": 5,
     "metadata": {},
     "output_type": "execute_result"
    },
    {
     "data": {
      "image/png": "[encoded data removed]",
      "text/plain": [
       "<Figure size 432x288 with 1 Axes>"
      ]
     },
     "metadata": {
      "needs_background": "light"
     },
     "output_type": "display_data"
    }
   ],
   "source": [
    "g = sns.countplot(y_train)\n",
    "\n",
    "y_train.value_counts()"
   ]
  },
  {
   "cell_type": "markdown",
   "metadata": {},
   "source": [
    "### Check for null and missing values"
   ]
  },
  {
   "cell_type": "code",
   "execution_count": 6,
   "metadata": {},
   "outputs": [
    {
     "data": {
      "text/plain": [
       "count       784\n",
       "unique        1\n",
       "top       False\n",
       "freq        784\n",
       "dtype: object"
      ]
     },
     "execution_count": 6,
     "metadata": {},
     "output_type": "execute_result"
    }
   ],
   "source": [
    "# Check the data\n",
    "X_train.isnull().any().describe()"
   ]
  },
  {
   "cell_type": "code",
   "execution_count": 7,
   "metadata": {},
   "outputs": [
    {
     "data": {
      "text/plain": [
       "count       784\n",
       "unique        1\n",
       "top       False\n",
       "freq        784\n",
       "dtype: object"
      ]
     },
     "execution_count": 7,
     "metadata": {},
     "output_type": "execute_result"
    }
   ],
   "source": [
    "test_images.isnull().any().describe()"
   ]
  },
  {
   "cell_type": "markdown",
   "metadata": {},
   "source": [
    "I check for corrupted images (missing values inside).\n",
    "\n",
    "There is no missing values in the train and test dataset. So we can safely go ahead."
   ]
  },
  {
   "cell_type": "markdown",
   "metadata": {},
   "source": [
    "### Normalization\n",
    "\n",
    "We perform a grayscale normalization to reduce the effect of illumination's differences.\n",
    "\n",
    "Moreover the CNN converg faster on [0..1] data than on [0..255]."
   ]
  },
  {
   "cell_type": "code",
   "execution_count": 8,
   "metadata": {},
   "outputs": [],
   "source": [
    "# Normalize the data\n",
    "X_train = X_train / 255.0\n",
    "test_images = test_images / 255.0"
   ]
  },
  {
   "cell_type": "markdown",
   "metadata": {},
   "source": [
    "### Reshape\n",
    "\n",
    "Train and test images (28px x 28px) has been stock into pandas.Dataframe as 1D vectors of 784 values. We reshape all data to 28x28x1 3D matrices.\n",
    "\n",
    "Keras requires an extra dimension in the end which correspond to channels. MNIST images are gray scaled so it use only one channel. For RGB images, there is 3 channels, we would have reshaped 784px vectors to 28x28x3 3D matrices."
   ]
  },
  {
   "cell_type": "code",
   "execution_count": 9,
   "metadata": {},
   "outputs": [],
   "source": [
    "# Reshape image in 3 dimensions (height = 28px, width = 28px , canal = 1)\n",
    "X_train = X_train.values.reshape(-1,28,28,1)\n",
    "X_test = test_images.values.reshape(-1,28,28,1)"
   ]
  },
  {
   "cell_type": "code",
   "execution_count": 10,
   "metadata": {},
   "outputs": [
    {
     "name": "stdout",
     "output_type": "stream",
     "text": [
      "X_train shape (42000, 28, 28, 1)\n",
      "X_test shape (28000, 28, 28, 1)\n"
     ]
    }
   ],
   "source": [
    "print(\"X_train shape\", X_train.shape)\n",
    "print(\"X_test shape\", X_test.shape)"
   ]
  },
  {
   "cell_type": "markdown",
   "metadata": {},
   "source": [
    "### Label encoding\n",
    "\n",
    "Labels are 10 digits numbers from 0 to 9. We need to encode these lables to one hot vectors (ex : 2 -> [0,0,1,0,0,0,0,0,0,0])."
   ]
  },
  {
   "cell_type": "code",
   "execution_count": 11,
   "metadata": {},
   "outputs": [],
   "source": [
    "# Encode labels to one hot vectors (ex : 2 -> [0,0,1,0,0,0,0,0,0,0])\n",
    "y_train = to_categorical(y_train, num_classes = 10)"
   ]
  },
  {
   "cell_type": "markdown",
   "metadata": {},
   "source": [
    "### Split training and valdiation set\n",
    "\n",
    "I choosed to split the train set in two parts : a small fraction (10%) became the validation set which the model is evaluated and the rest (90%) is used to train the model.\n",
    "\n",
    "Since we have 42 000 training images of balanced labels (see 2.1 Load data), a random split of the train set doesn't cause some labels to be over represented in the validation set. Be carefull with some unbalanced dataset a simple random split could cause inaccurate evaluation during the validation."
   ]
  },
  {
   "cell_type": "code",
   "execution_count": 12,
   "metadata": {},
   "outputs": [],
   "source": [
    "# Set the random seed\n",
    "random_seed = 2\n",
    "\n",
    "# Split the train and the validation set for the fitting\n",
    "X_train, X_val, Y_train, Y_val = train_test_split(X_train, y_train, \n",
    "                                                  test_size = 0.1, \n",
    "                                                  random_state=random_seed)"
   ]
  },
  {
   "cell_type": "code",
   "execution_count": 13,
   "metadata": {},
   "outputs": [
    {
     "data": {
      "text/plain": [
       "<matplotlib.image.AxesImage at 0x7ff63144eef0>"
      ]
     },
     "execution_count": 13,
     "metadata": {},
     "output_type": "execute_result"
    },
    {
     "data": {
      "image/png": "[encoded data removed]",
      "text/plain": [
       "<Figure size 432x288 with 1 Axes>"
      ]
     },
     "metadata": {
      "needs_background": "light"
     },
     "output_type": "display_data"
    }
   ],
   "source": [
    "# Let's visualising one image and looking at the label.\n",
    "# Some examples\n",
    "plt.imshow(X_train[0][:,:,0])"
   ]
  },
  {
   "cell_type": "markdown",
   "metadata": {},
   "source": [
    "## Define the model"
   ]
  },
  {
   "cell_type": "code",
   "execution_count": 14,
   "metadata": {},
   "outputs": [],
   "source": [
    "# Set the CNN model \n",
    "# my CNN architechture is In -> [[Conv2D->relu]*2 -> MaxPool2D -> Dropout]*2 -> Flatten -> Dense -> Dropout -> Out\n",
    "\n",
    "model = Sequential()\n",
    "\n",
    "model.add(Conv2D(filters = 32, kernel_size = (5,5),padding = 'Same', \n",
    "                 activation ='relu', input_shape = (28,28,1)))\n",
    "model.add(Conv2D(filters = 32, kernel_size = (5,5),padding = 'Same', \n",
    "                 activation ='relu'))\n",
    "model.add(MaxPool2D(pool_size=(2,2)))\n",
    "model.add(Dropout(0.25))\n",
    "\n",
    "\n",
    "model.add(Conv2D(filters = 64, kernel_size = (3,3),padding = 'Same', \n",
    "                 activation ='relu'))\n",
    "model.add(Conv2D(filters = 64, kernel_size = (3,3),padding = 'Same', \n",
    "                 activation ='relu'))\n",
    "model.add(MaxPool2D(pool_size=(2,2), strides=(2,2)))\n",
    "model.add(Dropout(0.25))\n",
    "\n",
    "\n",
    "model.add(Flatten())\n",
    "model.add(Dense(256, activation = \"relu\"))\n",
    "model.add(Dropout(0.5))\n",
    "model.add(Dense(10, activation = \"softmax\"))"
   ]
  },
  {
   "cell_type": "code",
   "execution_count": 15,
   "metadata": {},
   "outputs": [],
   "source": [
    "# model.summary() # 887,530"
   ]
  },
  {
   "cell_type": "markdown",
   "metadata": {},
   "source": [
    "### Set the optimizer and annealer"
   ]
  },
  {
   "cell_type": "markdown",
   "metadata": {},
   "source": [
    "Once our layers are added to the model, we need to set up a score function, a loss function and an optimisation algorithm.\n",
    "\n",
    "We define the loss function to measure how poorly our model performs on images with known labels. It is the error rate between the oberved labels and the predicted ones. We use a specific form for categorical classifications (>2 classes) called the \"categorical_crossentropy\".\n",
    "\n",
    "The most important function is the optimizer. This function will iteratively improve parameters (filters kernel values, weights and bias of neurons ...) in order to minimise the loss.\n",
    "\n",
    "I choosed RMSprop (with default values), it is a very effective optimizer. The RMSProp update adjusts the Adagrad method in a very simple way in an attempt to reduce its aggressive, monotonically decreasing learning rate. We could also have used Stochastic Gradient Descent ('sgd') optimizer, but it is slower than RMSprop.\n",
    "\n",
    "The metric function \"accuracy\" is used is to evaluate the performance our model. This metric function is similar to the loss function, except that the results from the metric evaluation are not used when training the model (only for evaluation)."
   ]
  },
  {
   "cell_type": "code",
   "execution_count": 16,
   "metadata": {},
   "outputs": [],
   "source": [
    "# Define the optimizer\n",
    "optimizer = RMSprop(lr=0.001, rho=0.9, epsilon=1e-08, decay=0.0)"
   ]
  },
  {
   "cell_type": "code",
   "execution_count": 17,
   "metadata": {},
   "outputs": [],
   "source": [
    "# Compile the model\n",
    "model.compile(optimizer = optimizer , loss = \"categorical_crossentropy\", metrics=[\"accuracy\"])"
   ]
  },
  {
   "cell_type": "markdown",
   "metadata": {},
   "source": [
    "In order to make the optimizer converge faster and closest to the global minimum of the loss function, i used an annealing method of the learning rate (LR).\n",
    "\n",
    "The LR is the step by which the optimizer walks through the 'loss landscape'. The higher LR, the bigger are the steps and the quicker is the convergence. However the sampling is very poor with an high LR and the optimizer could probably fall into a local minima.\n",
    "\n",
    "Its better to have a decreasing learning rate during the training to reach efficiently the global minimum of the loss function.\n",
    "\n",
    "To keep the advantage of the fast computation time with a high LR, i decreased the LR dynamically every X steps (epochs) depending if it is necessary (when accuracy is not improved).\n",
    "\n",
    "With the ReduceLROnPlateau function from Keras.callbacks, i choose to reduce the LR by half if the accuracy is not improved after 3 epochs."
   ]
  },
  {
   "cell_type": "code",
   "execution_count": 18,
   "metadata": {},
   "outputs": [],
   "source": [
    "# Set a learning rate annealer\n",
    "learning_rate_reduction = ReduceLROnPlateau(monitor='val_accuracy', \n",
    "                                            patience=3, \n",
    "                                            verbose=1, \n",
    "                                            factor=0.5, \n",
    "                                            min_lr=0.00001)"
   ]
  },
  {
   "cell_type": "code",
   "execution_count": 19,
   "metadata": {},
   "outputs": [
    {
     "name": "stdout",
     "output_type": "stream",
     "text": [
      "Train on 37800 samples, validate on 4200 samples\n",
      "Epoch 1/30\n",
      "37800/37800 [==============================] - 9s 227us/step - loss: 0.2435 - accuracy: 0.9226 - val_loss: 0.0686 - val_accuracy: 0.9793\n",
      "Epoch 2/30\n",
      "37800/37800 [==============================] - 4s 98us/step - loss: 0.0732 - accuracy: 0.9779 - val_loss: 0.0628 - val_accuracy: 0.9814\n",
      "Epoch 3/30\n",
      "37800/37800 [==============================] - 4s 95us/step - loss: 0.0549 - accuracy: 0.9837 - val_loss: 0.0358 - val_accuracy: 0.9895\n",
      "Epoch 4/30\n",
      "37800/37800 [==============================] - 3s 93us/step - loss: 0.0444 - accuracy: 0.9863 - val_loss: 0.0327 - val_accuracy: 0.9907\n",
      "Epoch 5/30\n",
      "37800/37800 [==============================] - 4s 95us/step - loss: 0.0389 - accuracy: 0.9881 - val_loss: 0.0362 - val_accuracy: 0.9905\n",
      "Epoch 6/30\n",
      "37800/37800 [==============================] - 4s 94us/step - loss: 0.0357 - accuracy: 0.9896 - val_loss: 0.0445 - val_accuracy: 0.9910\n",
      "Epoch 7/30\n",
      "37800/37800 [==============================] - 3s 92us/step - loss: 0.0342 - accuracy: 0.9903 - val_loss: 0.0244 - val_accuracy: 0.9921\n",
      "Epoch 8/30\n",
      "37800/37800 [==============================] - 4s 94us/step - loss: 0.0332 - accuracy: 0.9902 - val_loss: 0.0311 - val_accuracy: 0.9917\n",
      "Epoch 9/30\n",
      "37800/37800 [==============================] - 4s 96us/step - loss: 0.0304 - accuracy: 0.9907 - val_loss: 0.0241 - val_accuracy: 0.9929\n",
      "Epoch 10/30\n",
      "37800/37800 [==============================] - 3s 90us/step - loss: 0.0287 - accuracy: 0.9915 - val_loss: 0.0382 - val_accuracy: 0.9926\n",
      "Epoch 11/30\n",
      "37800/37800 [==============================] - 4s 93us/step - loss: 0.0289 - accuracy: 0.9916 - val_loss: 0.0339 - val_accuracy: 0.9924\n",
      "Epoch 12/30\n",
      "37800/37800 [==============================] - 3s 92us/step - loss: 0.0300 - accuracy: 0.9919 - val_loss: 0.0342 - val_accuracy: 0.9929\n",
      "Epoch 13/30\n",
      "37800/37800 [==============================] - 4s 93us/step - loss: 0.0267 - accuracy: 0.9923 - val_loss: 0.0243 - val_accuracy: 0.9936\n",
      "Epoch 14/30\n",
      "37800/37800 [==============================] - 4s 95us/step - loss: 0.0272 - accuracy: 0.9922 - val_loss: 0.0338 - val_accuracy: 0.9893\n",
      "Epoch 15/30\n",
      "37800/37800 [==============================] - 3s 92us/step - loss: 0.0257 - accuracy: 0.9927 - val_loss: 0.0314 - val_accuracy: 0.9924\n",
      "Epoch 16/30\n",
      "37800/37800 [==============================] - 4s 96us/step - loss: 0.0235 - accuracy: 0.9936 - val_loss: 0.0395 - val_accuracy: 0.9912\n",
      "Epoch 17/30\n",
      "37800/37800 [==============================] - 4s 100us/step - loss: 0.0273 - accuracy: 0.9924 - val_loss: 0.0408 - val_accuracy: 0.9914\n",
      "Epoch 18/30\n",
      "37800/37800 [==============================] - 4s 102us/step - loss: 0.0288 - accuracy: 0.9922 - val_loss: 0.0293 - val_accuracy: 0.9924\n",
      "Epoch 19/30\n",
      "37800/37800 [==============================] - 4s 93us/step - loss: 0.0269 - accuracy: 0.9926 - val_loss: 0.0336 - val_accuracy: 0.9926\n",
      "Epoch 20/30\n",
      "37800/37800 [==============================] - 4s 93us/step - loss: 0.0287 - accuracy: 0.9924 - val_loss: 0.0301 - val_accuracy: 0.9924\n",
      "Epoch 21/30\n",
      "37800/37800 [==============================] - 3s 92us/step - loss: 0.0301 - accuracy: 0.9922 - val_loss: 0.0363 - val_accuracy: 0.9902\n",
      "Epoch 22/30\n",
      "37800/37800 [==============================] - 3s 92us/step - loss: 0.0303 - accuracy: 0.9922 - val_loss: 0.0277 - val_accuracy: 0.9933\n",
      "Epoch 23/30\n",
      "37800/37800 [==============================] - 4s 94us/step - loss: 0.0296 - accuracy: 0.9925 - val_loss: 0.0287 - val_accuracy: 0.9938\n",
      "Epoch 24/30\n",
      "37800/37800 [==============================] - 3s 90us/step - loss: 0.0303 - accuracy: 0.9923 - val_loss: 0.0489 - val_accuracy: 0.9900\n",
      "Epoch 25/30\n",
      "37800/37800 [==============================] - 3s 92us/step - loss: 0.0351 - accuracy: 0.9913 - val_loss: 0.0345 - val_accuracy: 0.9926\n",
      "Epoch 26/30\n",
      "37800/37800 [==============================] - 4s 96us/step - loss: 0.0332 - accuracy: 0.9916 - val_loss: 0.0330 - val_accuracy: 0.9929\n",
      "Epoch 27/30\n",
      "37800/37800 [==============================] - 4s 99us/step - loss: 0.0350 - accuracy: 0.9916 - val_loss: 0.0325 - val_accuracy: 0.9924\n",
      "Epoch 28/30\n",
      "37800/37800 [==============================] - 3s 92us/step - loss: 0.0323 - accuracy: 0.9920 - val_loss: 0.0434 - val_accuracy: 0.9921\n",
      "Epoch 29/30\n",
      "37800/37800 [==============================] - 3s 90us/step - loss: 0.0327 - accuracy: 0.9918 - val_loss: 0.0274 - val_accuracy: 0.9929\n",
      "Epoch 30/30\n",
      "37800/37800 [==============================] - 4s 94us/step - loss: 0.0392 - accuracy: 0.9908 - val_loss: 0.0378 - val_accuracy: 0.9917\n"
     ]
    },
    {
     "data": {
      "text/plain": [
       "<keras.callbacks.callbacks.History at 0x7ff62eb96f60>"
      ]
     },
     "execution_count": 19,
     "metadata": {},
     "output_type": "execute_result"
    }
   ],
   "source": [
    "model.fit(X_train, Y_train, epochs=30, batch_size=86, validation_data = (X_val,Y_val))"
   ]
  },
  {
   "cell_type": "code",
   "execution_count": 20,
   "metadata": {},
   "outputs": [],
   "source": [
    "#arr = arr.astype('float64')\n",
    "predictions = model.predict(X_test)\n",
    "# argmax will choose the value having max probability\n",
    "model_res = np.argmax(predictions, axis=1)"
   ]
  },
  {
   "cell_type": "code",
   "execution_count": 21,
   "metadata": {},
   "outputs": [
    {
     "name": "stdout",
     "output_type": "stream",
     "text": [
      "[2 0 9 9]\n"
     ]
    }
   ],
   "source": [
    "#Print our predicitons as number labels for the first 4 images\n",
    "print(model_res[:4])"
   ]
  },
  {
   "cell_type": "code",
   "execution_count": 22,
   "metadata": {},
   "outputs": [],
   "source": [
    "# create sample submission file and submit\n",
    "pred = pd.DataFrame(model_res)\n",
    "sub_df = pd.read_csv('../input/digit-recognizer/sample_submission.csv')\n",
    "datasets = pd.concat([sub_df['ImageId'], pred], axis =1)\n",
    "datasets.columns = ['ImageId', 'Label']\n",
    "datasets.to_csv(\"sample_submission.csv\", index = False)"
   ]
  },
  {
   "cell_type": "markdown",
   "metadata": {},
   "source": [
    "### At this stage I have got a score of 0.98642. I will try to improve score by implementing data augumentation"
   ]
  },
  {
   "cell_type": "markdown",
   "metadata": {},
   "source": [
    "## Data augmentation\n",
    "\n",
    "In order to avoid overfitting problem, we need to expand artificially our handwritten digit dataset. We can make your existing dataset even larger. The idea is to alter the training data with small transformations to reproduce the variations occuring when someone is writing a digit.\n",
    "\n",
    "For example, the number is not centered The scale is not the same (some who write with big/small numbers) The image is rotated...\n",
    "\n",
    "Approaches that alter the training data in ways that change the array representation while keeping the label the same are known as data augmentation techniques. Some popular augmentations people use are grayscales, horizontal flips, vertical flips, random crops, color jitters, translations, rotations, and much more.\n",
    "\n",
    "By applying just a couple of these transformations to our training data, we can easily double or triple the number of training examples and create a very robust model.\n",
    "\n",
    "The improvement is important :\n",
    "\n",
    "* Without data augmentation i obtained an accuracy of 98.642%\n",
    "* With data augmentation i achieved 99.52% of accuracy"
   ]
  },
  {
   "cell_type": "code",
   "execution_count": 23,
   "metadata": {},
   "outputs": [],
   "source": [
    "datagen = ImageDataGenerator(\n",
    "        featurewise_center=False,  # set input mean to 0 over the dataset\n",
    "        samplewise_center=False,  # set each sample mean to 0\n",
    "        featurewise_std_normalization=False,  # divide inputs by std of the dataset\n",
    "        samplewise_std_normalization=False,  # divide each input by its std\n",
    "        zca_whitening=False,  # apply ZCA whitening\n",
    "        rotation_range=10,  # randomly rotate images in the range (degrees, 0 to 180)\n",
    "        zoom_range = 0.1, # Randomly zoom image \n",
    "        width_shift_range=0.1,  # randomly shift images horizontally (fraction of total width)\n",
    "        height_shift_range=0.1,  # randomly shift images vertically (fraction of total height)\n",
    "        horizontal_flip=False,  # randomly flip images\n",
    "        vertical_flip=False)  # randomly flip images\n",
    "\n",
    "\n",
    "datagen.fit(X_train)"
   ]
  },
  {
   "cell_type": "markdown",
   "metadata": {},
   "source": [
    "For the data augmentation, i choosed to :\n",
    "\n",
    "* Randomly rotate some training images by 10 degrees\n",
    "* Randomly Zoom by 10% some training images\n",
    "* Randomly shift images horizontally by 10% of the width\n",
    "* Randomly shift images vertically by 10% of the height\n",
    "\n",
    "I did not apply a vertical_flip nor horizontal_flip since it could have lead to misclassify symetrical numbers such as 6 and 9.\n",
    "\n",
    "Once our model is ready, we fit the training dataset "
   ]
  },
  {
   "cell_type": "code",
   "execution_count": 24,
   "metadata": {},
   "outputs": [
    {
     "name": "stdout",
     "output_type": "stream",
     "text": [
      "Epoch 1/50\n",
      " - 13s - loss: 0.1860 - accuracy: 0.9536 - val_loss: 0.0431 - val_accuracy: 0.9907\n",
      "Epoch 2/50\n",
      " - 12s - loss: 0.1298 - accuracy: 0.9668 - val_loss: 0.0512 - val_accuracy: 0.9893\n",
      "Epoch 3/50\n",
      " - 12s - loss: 0.1148 - accuracy: 0.9704 - val_loss: 0.0516 - val_accuracy: 0.9902\n",
      "Epoch 4/50\n",
      " - 12s - loss: 0.1012 - accuracy: 0.9741 - val_loss: 0.0344 - val_accuracy: 0.9905\n",
      "\n",
      "Epoch 00004: ReduceLROnPlateau reducing learning rate to 0.0005000000237487257.\n",
      "Epoch 5/50\n",
      " - 12s - loss: 0.0753 - accuracy: 0.9789 - val_loss: 0.0369 - val_accuracy: 0.9924\n",
      "Epoch 6/50\n",
      " - 13s - loss: 0.0737 - accuracy: 0.9799 - val_loss: 0.0312 - val_accuracy: 0.9936\n",
      "Epoch 7/50\n",
      " - 12s - loss: 0.0742 - accuracy: 0.9805 - val_loss: 0.0478 - val_accuracy: 0.9917\n",
      "Epoch 8/50\n",
      " - 12s - loss: 0.0681 - accuracy: 0.9812 - val_loss: 0.0535 - val_accuracy: 0.9910\n",
      "Epoch 9/50\n",
      " - 12s - loss: 0.0691 - accuracy: 0.9806 - val_loss: 0.0602 - val_accuracy: 0.9898\n",
      "\n",
      "Epoch 00009: ReduceLROnPlateau reducing learning rate to 0.0002500000118743628.\n",
      "Epoch 10/50\n",
      " - 13s - loss: 0.0586 - accuracy: 0.9830 - val_loss: 0.0496 - val_accuracy: 0.9914\n",
      "Epoch 11/50\n",
      " - 12s - loss: 0.0544 - accuracy: 0.9845 - val_loss: 0.0319 - val_accuracy: 0.9914\n",
      "Epoch 12/50\n",
      " - 12s - loss: 0.0592 - accuracy: 0.9833 - val_loss: 0.0375 - val_accuracy: 0.9929\n",
      "\n",
      "Epoch 00012: ReduceLROnPlateau reducing learning rate to 0.0001250000059371814.\n",
      "Epoch 13/50\n",
      " - 12s - loss: 0.0524 - accuracy: 0.9850 - val_loss: 0.0424 - val_accuracy: 0.9926\n",
      "Epoch 14/50\n",
      " - 12s - loss: 0.0504 - accuracy: 0.9862 - val_loss: 0.0463 - val_accuracy: 0.9921\n",
      "Epoch 15/50\n",
      " - 12s - loss: 0.0521 - accuracy: 0.9860 - val_loss: 0.0477 - val_accuracy: 0.9924\n",
      "\n",
      "Epoch 00015: ReduceLROnPlateau reducing learning rate to 6.25000029685907e-05.\n",
      "Epoch 16/50\n",
      " - 13s - loss: 0.0480 - accuracy: 0.9864 - val_loss: 0.0443 - val_accuracy: 0.9926\n",
      "Epoch 17/50\n",
      " - 12s - loss: 0.0489 - accuracy: 0.9871 - val_loss: 0.0490 - val_accuracy: 0.9924\n",
      "Epoch 18/50\n",
      " - 12s - loss: 0.0507 - accuracy: 0.9869 - val_loss: 0.0512 - val_accuracy: 0.9929\n",
      "\n",
      "Epoch 00018: ReduceLROnPlateau reducing learning rate to 3.125000148429535e-05.\n",
      "Epoch 19/50\n",
      " - 12s - loss: 0.0453 - accuracy: 0.9867 - val_loss: 0.0525 - val_accuracy: 0.9929\n",
      "Epoch 20/50\n",
      " - 12s - loss: 0.0486 - accuracy: 0.9866 - val_loss: 0.0685 - val_accuracy: 0.9921\n",
      "Epoch 21/50\n",
      " - 12s - loss: 0.0462 - accuracy: 0.9872 - val_loss: 0.0855 - val_accuracy: 0.9914\n",
      "\n",
      "Epoch 00021: ReduceLROnPlateau reducing learning rate to 1.5625000742147677e-05.\n",
      "Epoch 22/50\n",
      " - 12s - loss: 0.0451 - accuracy: 0.9874 - val_loss: 0.0659 - val_accuracy: 0.9924\n",
      "Epoch 23/50\n",
      " - 12s - loss: 0.0433 - accuracy: 0.9877 - val_loss: 0.0767 - val_accuracy: 0.9919\n",
      "Epoch 24/50\n",
      " - 11s - loss: 0.0491 - accuracy: 0.9861 - val_loss: 0.0656 - val_accuracy: 0.9924\n",
      "\n",
      "Epoch 00024: ReduceLROnPlateau reducing learning rate to 1e-05.\n",
      "Epoch 25/50\n",
      " - 12s - loss: 0.0479 - accuracy: 0.9867 - val_loss: 0.0593 - val_accuracy: 0.9926\n",
      "Epoch 26/50\n",
      " - 12s - loss: 0.0471 - accuracy: 0.9866 - val_loss: 0.0617 - val_accuracy: 0.9926\n",
      "Epoch 27/50\n",
      " - 12s - loss: 0.0450 - accuracy: 0.9877 - val_loss: 0.0615 - val_accuracy: 0.9931\n",
      "Epoch 28/50\n",
      " - 11s - loss: 0.0474 - accuracy: 0.9873 - val_loss: 0.0582 - val_accuracy: 0.9931\n",
      "Epoch 29/50\n",
      " - 12s - loss: 0.0471 - accuracy: 0.9867 - val_loss: 0.0558 - val_accuracy: 0.9929\n",
      "Epoch 30/50\n",
      " - 11s - loss: 0.0463 - accuracy: 0.9865 - val_loss: 0.0613 - val_accuracy: 0.9924\n",
      "Epoch 31/50\n",
      " - 12s - loss: 0.0458 - accuracy: 0.9878 - val_loss: 0.0673 - val_accuracy: 0.9924\n",
      "Epoch 32/50\n",
      " - 12s - loss: 0.0456 - accuracy: 0.9869 - val_loss: 0.0647 - val_accuracy: 0.9926\n",
      "Epoch 33/50\n",
      " - 11s - loss: 0.0455 - accuracy: 0.9872 - val_loss: 0.0649 - val_accuracy: 0.9924\n",
      "Epoch 34/50\n",
      " - 12s - loss: 0.0487 - accuracy: 0.9869 - val_loss: 0.0602 - val_accuracy: 0.9929\n",
      "Epoch 35/50\n",
      " - 12s - loss: 0.0464 - accuracy: 0.9875 - val_loss: 0.0665 - val_accuracy: 0.9929\n",
      "Epoch 36/50\n",
      " - 11s - loss: 0.0469 - accuracy: 0.9870 - val_loss: 0.0586 - val_accuracy: 0.9924\n",
      "Epoch 37/50\n",
      " - 13s - loss: 0.0458 - accuracy: 0.9874 - val_loss: 0.0609 - val_accuracy: 0.9921\n",
      "Epoch 38/50\n",
      " - 11s - loss: 0.0454 - accuracy: 0.9866 - val_loss: 0.0546 - val_accuracy: 0.9924\n",
      "Epoch 39/50\n",
      " - 12s - loss: 0.0431 - accuracy: 0.9880 - val_loss: 0.0532 - val_accuracy: 0.9926\n",
      "Epoch 40/50\n",
      " - 11s - loss: 0.0467 - accuracy: 0.9865 - val_loss: 0.0561 - val_accuracy: 0.9924\n",
      "Epoch 41/50\n",
      " - 11s - loss: 0.0480 - accuracy: 0.9863 - val_loss: 0.0529 - val_accuracy: 0.9926\n",
      "Epoch 42/50\n",
      " - 13s - loss: 0.0455 - accuracy: 0.9876 - val_loss: 0.0496 - val_accuracy: 0.9929\n",
      "Epoch 43/50\n",
      " - 11s - loss: 0.0449 - accuracy: 0.9875 - val_loss: 0.0501 - val_accuracy: 0.9926\n",
      "Epoch 44/50\n",
      " - 11s - loss: 0.0457 - accuracy: 0.9879 - val_loss: 0.0517 - val_accuracy: 0.9924\n",
      "Epoch 45/50\n",
      " - 12s - loss: 0.0449 - accuracy: 0.9872 - val_loss: 0.0542 - val_accuracy: 0.9926\n",
      "Epoch 46/50\n",
      " - 12s - loss: 0.0446 - accuracy: 0.9868 - val_loss: 0.0550 - val_accuracy: 0.9926\n",
      "Epoch 47/50\n",
      " - 13s - loss: 0.0454 - accuracy: 0.9873 - val_loss: 0.0581 - val_accuracy: 0.9924\n",
      "Epoch 48/50\n",
      " - 11s - loss: 0.0458 - accuracy: 0.9867 - val_loss: 0.0538 - val_accuracy: 0.9924\n",
      "Epoch 49/50\n",
      " - 12s - loss: 0.0463 - accuracy: 0.9874 - val_loss: 0.0547 - val_accuracy: 0.9929\n",
      "Epoch 50/50\n",
      " - 12s - loss: 0.0423 - accuracy: 0.9875 - val_loss: 0.0522 - val_accuracy: 0.9933\n"
     ]
    }
   ],
   "source": [
    "batch_size = 86\n",
    "# Fit the model\n",
    "history = model.fit_generator(datagen.flow(X_train,Y_train, batch_size=batch_size),\n",
    "                              epochs = 50, validation_data = (X_val,Y_val),\n",
    "                              verbose = 2, steps_per_epoch=X_train.shape[0] // batch_size, \n",
    "                              callbacks=[learning_rate_reduction])"
   ]
  },
  {
   "cell_type": "code",
   "execution_count": 25,
   "metadata": {},
   "outputs": [],
   "source": [
    "#arr = arr.astype('float64')\n",
    "predictions = model.predict(X_test)\n",
    "# argmax will choose the value having max probability\n",
    "model_res = np.argmax(predictions, axis=1)"
   ]
  },
  {
   "cell_type": "code",
   "execution_count": 26,
   "metadata": {},
   "outputs": [],
   "source": [
    "# create sample submission file and submit\n",
    "pred = pd.DataFrame(model_res)\n",
    "sub_df = pd.read_csv('../input/digit-recognizer/sample_submission.csv')\n",
    "datasets = pd.concat([sub_df['ImageId'], pred], axis =1)\n",
    "datasets.columns = ['ImageId', 'Label']\n",
    "datasets.to_csv(\"sample_submission_datagen.csv\", index = False)"
   ]
  },
  {
   "cell_type": "markdown",
   "metadata": {},
   "source": [
    "At this instant my submission has scored 0.99528. "
   ]
  },
  {
   "cell_type": "code",
   "execution_count": null,
   "metadata": {},
   "outputs": [],
   "source": []
  }
 ],
 "metadata": {
  "kernelspec": {
   "display_name": "Python 3",
   "language": "python",
   "name": "python3"
  },
  "language_info": {
   "codemirror_mode": {
    "name": "ipython",
    "version": 3
   },
   "file_extension": ".py",
   "mimetype": "text/x-python",
   "name": "python",
   "nbconvert_exporter": "python",
   "pygments_lexer": "ipython3",
   "version": "3.6.6"
  }
 },
 "nbformat": 4,
 "nbformat_minor": 4
}
